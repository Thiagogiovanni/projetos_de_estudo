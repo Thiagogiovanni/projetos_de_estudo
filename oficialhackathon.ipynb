{
  "cells": [
    {
      "cell_type": "markdown",
      "metadata": {
        "id": "view-in-github",
        "colab_type": "text"
      },
      "source": [
        "<a href=\"https://colab.research.google.com/github/Thiagogiovanni/projetos_de_estudo/blob/main/oficialhackathon.ipynb\" target=\"_parent\"><img src=\"https://colab.research.google.com/assets/colab-badge.svg\" alt=\"Open In Colab\"/></a>"
      ]
    },
    {
      "cell_type": "markdown",
      "source": [
        "# Participação Hackathon LES \n",
        "\n",
        "Em outubro de 2022 participei de um [Hackathon](https://les.uff.br/evento/) promovido pelo laboratório de estatística da UFF, onde curso Matemática Aplicada.\n",
        "\n",
        "Participaram 3 empresas, sendo elas o grupo Globo, Águas do Brasil e VALE\n"
      ],
      "metadata": {
        "id": "hlxwRH9PCoDb"
      }
    },
    {
      "cell_type": "markdown",
      "source": [
        "# Detalhando mais o projeto\n",
        "\n",
        "O projeto escolhido pelo meu grupo foi da Águas do Brasil e ele consistia em fazer uma análise de crédito.\n",
        "\n",
        "Foram passados dois bancos de dados, sendo eles um de treino, com uma variável TARGET e outro de teste, sem a variável TARGET. \n",
        "\n",
        "TARGET nos dizia se o cliente em questão foi ou não um bom pagador.\n",
        "\n",
        "Nosso objetivo era com base no banco de treino conseguir desenvolver um método para classificar os clientes como maus ou bons pagadores para que pudéssemos prever isso na outra base."
      ],
      "metadata": {
        "id": "VNAgQm5qP6e2"
      }
    },
    {
      "cell_type": "markdown",
      "source": [
        "# Divisão de tarefas\n",
        "\n",
        "Dividimos o grupo, inicialmente, em 3 partes\n"
      ],
      "metadata": {
        "id": "rlib0AhxSMsB"
      }
    },
    {
      "cell_type": "markdown",
      "source": [
        "## (1) Análise, tratamento, propostas e implementação final\n",
        "\n",
        "Essa foi minha participação, o objetivo inicial era ter uma boa ideia de como era a base, seus valores faltantes, seus outliers e coisas do gênero. \n",
        "\n",
        "Após tal análise, foi decidido quais seriam as variáveis iniciais utilizadas de fato (algumas eram trivialmente irrelevantes), nós iriamos implementar os métodos Logit e Probit para previsão e eles por si só já nos dizem quais foram as variáveis mais e menos relevantes, por isso essa análise inicial foi mais superficial.\n",
        "\n",
        "Logo depois, fiquei encarregado de tratar a base, interpretar como iriamos lidar com seus valores faltantes e criar novas variáveis a partir de outras, com a ideia de diminuir o \"desgaste\" computacional e gerar informações mais relevantes, por exemplo:\n",
        "\n",
        "Temos uma variável que era a quantidade de contas pagas nos últimos 12 meses e outra que era a quantidade de contas faturadas nesses 12 meses, como tínhamos pessoas que começaram a receber contas recentemente e outras que recebem a mais de 1 ano, por exemplo, essas duas variáveis acabavam perdendo um pouco da sua importância, por isso, foi criei uma variável que era a proporção entre as contas pagas e as faturadas. Ou seja, fizemos duas variáveis virarem uma e possuindo uma informação mais relevante.\n",
        "\n",
        "Ao final do tratamento das bases, fiquei encarregado de ajudar outro colega na implementação dos métodos.\n"
      ],
      "metadata": {
        "id": "5pL4Lt2NS0Of"
      }
    },
    {
      "cell_type": "markdown",
      "source": [
        "## (2) Criação de subamostras de treino\n",
        "\n",
        "Nossa base inicial possuia cerca de 600.000 entradas com 36 colunas, tivemos a ideia de criar 200 pares de subamostras da base de treino (com 60.000 dados cada uma) e testar os métodos LOGIT e PROBIT nelas.\n",
        "\n",
        "A motivação era diminuir o esforço computacional e conseguir comparar os dois métodos, para decidirmos qual seria de fato utilizado e quais variáveis seriam levadas em conta."
      ],
      "metadata": {
        "id": "d2xHLVcVTOyI"
      }
    },
    {
      "cell_type": "markdown",
      "source": [
        "## (3) Desenvolver apresentação e estudo teórico dos métodos de previsão\n",
        "\n",
        "Queriamos de fato entender como funcionava esses métodos de previsão, ao invés de só copiar códigos, por isso parte do grupo ficou com a função de estudar e apresentar, tanto para o grupo, quanto para as pessoas no evento, como funcionava tais métodos.\n",
        "\n"
      ],
      "metadata": {
        "id": "iDBEWngGTHmn"
      }
    },
    {
      "cell_type": "markdown",
      "source": [
        "# Disponibilidade dos dados\n",
        "\n",
        "Foi feito um acordo de confidencialidade, por isso não terá a base de dados disponível nesse projeto. Abaixo dessa linha terá de fato o que usei, como me organizei e meu script, porém sem a base. Tentarei passar uma ideia de como estava tais dados."
      ],
      "metadata": {
        "id": "qukBT20RYZau"
      }
    },
    {
      "cell_type": "markdown",
      "metadata": {
        "id": "TAN35ZCb0NhV"
      },
      "source": [
        "# **Dicionário para consulta**\n",
        "\n",
        "ID_CLIENTE\t\tIdentificador único que representa um contrato com o grupo\n",
        "\n",
        "CIDADE\t\t\tCidade do ID_CLIENTE\n",
        "\n",
        "BAIRRO\t\t\tBairro do ID_CLIENTE\n",
        "\n",
        "CEP\t\t\tCEP do ID_CLIENTE\n",
        "\n",
        "TIPO_MORADOR\t\tClassificação do ID_CLIENTE entre INQUILINO, PROPRIETÁRIO e IMOBILIÁRIA\n",
        "\n",
        "DATA_NASCIMENTO\t\tData de nascimento do ID_CLIENTE\n",
        "\n",
        "POSSUI_TEL\t\tInforma se o cliente possui telefone\n",
        "\n",
        "POSSUI_EMAIL\t\tInforma se o cliente possui e-mail\n",
        "\n",
        "TEMP_EMPRESA\t\tTempo de relacionamento do cliente com a empresa\n",
        "\n",
        "SIT_NEGATIVACAO\t\tInforma se o cliente possui alguma NF negativada\n",
        "\n",
        "CONFIRMA_DOC\t\tInforma se o cliente possui CPF/CNPJ validos cadastrados\n",
        "\n",
        "CONTA_DIGITAL\t\tInforma se o cliente é cadastrado em conta digital\n",
        "\n",
        "DEBITO_AUTOMATICO\tInforma se o cliente é cadastrado em débito automático\n",
        "\n",
        "TIPO_CLIENTE\t\tInforma o tipo cliente\n",
        "\n",
        "COMUNIDADE\t\tInforma se o cliente está em comunidade\n",
        "\n",
        "AREA_RISCO\t\tInforma se o cliente está em área de risco\n",
        "\n",
        "COBRANCA_MINIMA\t\tInformação se o ID_CLIENTE será cobrado pelo mínimo\n",
        "\n",
        "FONTE_ALTERNATIVA\tInformação se o ID_CLIENTE possui fonte alternativa de água, como poço artesiano\n",
        "\n",
        "SIT_AGUA\t\tSituação água do ID_CLIENTE\n",
        "\n",
        "SIT_ESGOTO\t\tSituação esgoto do ID_CLIENTE\n",
        "\n",
        "CATEGORIA_PRINC\t\tCategoria principal do ID_CLIENTE\n",
        "\n",
        "QTD_CONTAS_FAT_12\tQuantidade de contas faturadas nos últimos 12 meses\n",
        "\n",
        "QTD_CONTAS_PAGAS_12\tQuantidade de contas pagas nos últimos 12 meses\n",
        "\n",
        "VL_PGMT_12M\t\tValor pago nos últimos 12 meses\n",
        "\n",
        "TMP_MEDIO_PGMT_12\tTempo médio entre pagamento e vencimento nos últimos 12 meses\n",
        "\n",
        "TARGET\t\t\tClassificação do ID_CLIENTE como BOM PAGADOR ou MAU PAGADOR a partir das características de pagamento do ID_CLIENTE\n",
        "\n",
        "DIAS_ULTIMO_CORTE\tDias desde o último corte\n",
        "\n",
        "DIAS_ULTIMA_RELIGA\tDias desde a última religação\n",
        "\n",
        "QTD_RELIGA_12M\t\tQuantidade de religações nos últimos 12 meses\n",
        "\n",
        "QTD_FRAUDE_12M\t\tQuantidade de fraudes nos últimos 12 meses\n",
        "\n",
        "ATRASO_ANTIGO\t\tAtraso de débito mais antigo do cliente\n",
        "\n",
        "VL_VENCIDO\t\tValor total vencido\n",
        "\n",
        "QTD_CONTAS_VENC\t\tQuantidade de contas vencidas\n",
        "\n",
        "EMPRESA\t\t\tEmpresa responsável pela prestação de serviço do ID_CLIENTE\n"
      ]
    },
    {
      "cell_type": "markdown",
      "metadata": {
        "id": "61bCLdTvznDV"
      },
      "source": [
        "# **Um pouco do que devo fazer / ideias que posso tentar implementar**\n",
        "\n",
        "\n",
        "*   Mudar data nascimento para idade ***pois a mesma estava como str e formatado da forma:  ANO-MES-DIA ; 00:00:00***\n",
        "\n",
        "*   Mudar área de risco para binário (1 se vive em área de risco e 0 c.c)\n",
        "*   Juntar inquilino e imobiliária, ***pois a quantidade de moradores do tipo imobiliária era irrelevante, perto de inquilino e morador***\n",
        "*   Categoria_princ juntar (dividir em pessoa fisica ou jurídica) ***pois era dividida em residencial, comercial e industrial e esses dois últimos eram irrelevantes***\n",
        "*   Juntar contas faturadas e pagas numa razão das duas (substituir as 2 por 1)\n",
        "*   Analisar dias ultimo corte, dias ultima religa e atraso antigo (ver como relacionar)\n",
        "*   Trocar valor vencido pela razão valor vencido/ quantidade contas vencidas?? pensar se  faz sentido isso\n",
        "* Tentar mudar o CEP para municípios e usar isso\n",
        "* Eliminar colunas trivialmente irrelevantes\n",
        " \n",
        "\n",
        "\n",
        "\n",
        "    \n"
      ]
    },
    {
      "cell_type": "code",
      "execution_count": null,
      "metadata": {
        "id": "BX_DrlzopDln"
      },
      "outputs": [],
      "source": [
        "import pandas as pd\n",
        "import numpy as np\n",
        "import matplotlib.pyplot as plt\n",
        "import statsmodels.api as sm\n",
        "import statsmodels.formula.api as smf"
      ]
    },
    {
      "cell_type": "code",
      "execution_count": null,
      "metadata": {
        "id": "QI-VTAtlp2z1"
      },
      "outputs": [],
      "source": [
        "df = pd.read_csv('')"
      ]
    },
    {
      "cell_type": "markdown",
      "source": [
        "# Motivo da retirada inicial de algumas colunas\n",
        "\n",
        "* **'X', 'Z', 'ID_CLIENTE'**, pois não importam para nossa análise e a própria empresa pediu para retirar.\n",
        "\n",
        "* **'CIDADE', 'BAIRRO', 'CEP','COMUNIDADE'**, pois vimos que das colunas referentes a geografia dos clientes as únicas relevantes eram se o mesmo estava em área de risco ou não e a empresa que prestava o serviço\n",
        "\n",
        "* **'DIAS_ULTIMA_RELIGA','QTD_RELIGA_12M'** pois eram quase que 100% com informações sem sentido\n",
        "\n",
        "* **'CONTA_DIGITAL', 'POSSUI_TEL', 'POSSUI_EMAIL','CONFIRMA_DOC'** pois não eram relevantes"
      ],
      "metadata": {
        "id": "-t-zctghbU-B"
      }
    },
    {
      "cell_type": "code",
      "execution_count": null,
      "metadata": {
        "id": "11Bq4P4o2yjy"
      },
      "outputs": [],
      "source": [
        "# primeira retirada de variaveis\n",
        "df = df.drop(columns=['X', 'Z', 'ID_CLIENTE', 'CIDADE', 'BAIRRO', 'CEP', 'CONTA_DIGITAL', 'COMUNIDADE', 'DIAS_ULTIMA_RELIGA', 'POSSUI_TEL', 'POSSUI_EMAIL','CONFIRMA_DOC','QTD_RELIGA_12M' ])"
      ]
    },
    {
      "cell_type": "code",
      "execution_count": null,
      "metadata": {
        "id": "-I5shyed21kD"
      },
      "outputs": [],
      "source": [
        "#retirando os horários das datas\n",
        "df[\"DATA_NASCIMENTO\"] = pd.to_datetime(df[\"DATA_NASCIMENTO\"], errors = 'coerce')"
      ]
    },
    {
      "cell_type": "code",
      "execution_count": null,
      "metadata": {
        "id": "rhkow6zZ285z"
      },
      "outputs": [],
      "source": [
        "# mudando a data para ano\n",
        "df[\"DATA_NASCIMENTO\"] = df[\"DATA_NASCIMENTO\"].dt.year"
      ]
    },
    {
      "cell_type": "code",
      "execution_count": null,
      "metadata": {
        "id": "1-wA6AH42-NQ"
      },
      "outputs": [],
      "source": [
        "#calculando idade\n",
        "df[\"DATA_NASCIMENTO\"] = (2022 - df[\"DATA_NASCIMENTO\"])"
      ]
    },
    {
      "cell_type": "code",
      "execution_count": null,
      "metadata": {
        "id": "A8PQkVp92_zM"
      },
      "outputs": [],
      "source": [
        "# mudando nome\n",
        "df.rename(columns={'DATA_NASCIMENTO': 'IDADE'}, inplace=True)"
      ]
    },
    {
      "cell_type": "code",
      "execution_count": null,
      "metadata": {
        "id": "1csEDNwe3G1s"
      },
      "outputs": [],
      "source": [
        "# Juntando INQUILINO e IMOBILIÁRIA de TIPO_MORADOR\n",
        "df['TIPO_MORADOR'] = df['TIPO_MORADOR'].map({'PROPRIETÁRIO':1,'INQUILINO':0,'IMOBILIÁRIA':0})"
      ]
    },
    {
      "cell_type": "code",
      "execution_count": null,
      "metadata": {
        "id": "U1gqex0u3Nnq"
      },
      "outputs": [],
      "source": [
        "# Deixando binário AREA_RISCO\n",
        "df['AREA_RISCO'] = df['AREA_RISCO'].map({'SIM':1,'NÃO':0}) \n",
        "# (pd.get_dummies(df['AREA_RISCO']) TAMBEM FUNCIONA MAS RETORNA UM DATAFRAME DE 2 COLUNAS)"
      ]
    },
    {
      "cell_type": "code",
      "execution_count": null,
      "metadata": {
        "id": "6kiUobfy3VWJ"
      },
      "outputs": [],
      "source": [
        "# Juntando COMERCIAL com INDUSTRIAL de CATEGORIA_PRINC\n",
        "df['CATEGORIA_PRINC'] = df['CATEGORIA_PRINC'].map({'RESIDENCIAL':'FISICA','COMERCIAL':'JURIDICA','INDUSTRIAL':'JURIDICA'})"
      ]
    },
    {
      "cell_type": "code",
      "execution_count": null,
      "metadata": {
        "id": "0InoBLUr3bpu"
      },
      "outputs": [],
      "source": [
        "# Criando proporção entre contas pagas e faturadas\n",
        "df['PROPORCAO_PAGA_FATURADA'] = df['QTD_CONTAS_PAGAS_12']/df['QTD_CONTAS_FAT_12']"
      ]
    },
    {
      "cell_type": "markdown",
      "source": [
        "# Ajustando porcentagem acima de 100% para 100% da nova variável\n",
        "\n",
        "Percebi que quando criei a variável \"PROPORCAO_PAGA_FATURADA\" alguns dados estavam com o valor referente a 13/12, ou seja, a pessoa pagou 13 contas no período de 12 meses e isso ocorreu apenas por uma questão de validade de contas e momento da obtenção da base, por isso tal ajuste."
      ],
      "metadata": {
        "id": "OREoWhAwdZZM"
      }
    },
    {
      "cell_type": "code",
      "execution_count": null,
      "metadata": {
        "id": "kxmjNZkD42j4"
      },
      "outputs": [],
      "source": [
        "# Colocando porcentagens de pagas acima de 100% para 100%\n",
        "# for i in range(0,df.shape[0]):\n",
        "#   if (df.PROPORCAO_PAGA_FATURADA[i] > 1):\n",
        "#     df.PROPORCAO_PAGA_FATURADA[i] = 1\n",
        "\n",
        "df['PROPORCAO_PAGA_FATURADA'] = np.minimum(1,df['PROPORCAO_PAGA_FATURADA'])"
      ]
    },
    {
      "cell_type": "markdown",
      "source": [
        "# Colocando 0 no lugar do Nan de DIAS_ULTIMO_CORTE\n",
        "\n",
        "A proporção de pessoas que não tiveram problemas de pagamento era muito parecida com a quantidade de valores faltantes em DIAS_ULTIMO_CORTE, por isso interpretei que quem não havia tal informação era por conta de nunca ter sido cortada.\n",
        "\n",
        "Depois ajustei tal variável para ser interpretada como se fosse \"já teve corte ou não teve corte\".\n",
        "\n",
        "Fiz o mesmo para \"ATRASO_ANTIGO\""
      ],
      "metadata": {
        "id": "pU1EXmxNeE4T"
      }
    },
    {
      "cell_type": "code",
      "execution_count": null,
      "metadata": {
        "id": "3yXKUNna4a0B"
      },
      "outputs": [],
      "source": [
        "# Colocando 0 no lugar do Nan de DIAS_ULTIMO_CORTE\n",
        "df['DIAS_ULTIMO_CORTE'].fillna(0, inplace=True)"
      ]
    },
    {
      "cell_type": "code",
      "execution_count": null,
      "metadata": {
        "id": "LHFvAY5GgTaH"
      },
      "outputs": [],
      "source": [
        "# Colocando 1 para todos que tiveram dias cortados\n",
        "# for i in range(0,df.shape[0]):\n",
        "#   if (df.DIAS_ULTIMO_CORTE[i] > 0):\n",
        "#     df.DIAS_ULTIMO_CORTE[i] = 1\n",
        "\n",
        "df['DIAS_ULTIMO_CORTE'] = np.where(df['DIAS_ULTIMO_CORTE'] >0 , 1, df['DIAS_ULTIMO_CORTE'].values)"
      ]
    },
    {
      "cell_type": "code",
      "execution_count": null,
      "metadata": {
        "id": "g-8cJJR9hAHe"
      },
      "outputs": [],
      "source": [
        "# Colocando 0 no lugar do Nan de ATRASO_ANTIGO\n",
        "df['ATRASO_ANTIGO'].fillna(0, inplace=True)"
      ]
    },
    {
      "cell_type": "code",
      "execution_count": null,
      "metadata": {
        "id": "RtuMzS1Lg7tY"
      },
      "outputs": [],
      "source": [
        "# Colocando 1 para todos que tiveram atrasos\n",
        "# for i in range(0,df.shape[0]):\n",
        "#   if (df.ATRASO_ANTIGO[i] > 0):\n",
        "#     df.ATRASO_ANTIGO[i] = 1\n",
        "\n",
        "df['ATRASO_ANTIGO'] = np.where(df['ATRASO_ANTIGO'] >0 , 1, df['ATRASO_ANTIGO'].values)"
      ]
    },
    {
      "cell_type": "markdown",
      "source": [
        "# Trocando os valores Nan de fraude para 0\n",
        "\n",
        "A mesma ideia anterior para tratar com os valores ausentes,só que para a variável \"QTD_FRAUDE_12M\". Depois criei uma nova variável para sabermos qual a porcentagem das contas faturadas foi paga."
      ],
      "metadata": {
        "id": "wXafZIwDfRCq"
      }
    },
    {
      "cell_type": "code",
      "execution_count": null,
      "metadata": {
        "id": "y3jQU0Zu4p7K"
      },
      "outputs": [],
      "source": [
        "# Trocando os valores Nan de fraude para 0\n",
        "df['QTD_FRAUDE_12M'].fillna(0, inplace=True)"
      ]
    },
    {
      "cell_type": "code",
      "execution_count": null,
      "metadata": {
        "id": "tHvqnoux512u"
      },
      "outputs": [],
      "source": [
        "# Criando proporção entre fraudes e as contas totais dos clientes\n",
        "df[\"Proporção_FRAUDES_FATURADAS\"] = df[\"QTD_FRAUDE_12M\"]/df['QTD_CONTAS_FAT_12']"
      ]
    },
    {
      "cell_type": "code",
      "execution_count": null,
      "metadata": {
        "id": "H0M25mZ16G_G"
      },
      "outputs": [],
      "source": [
        "# retirar colunas que ja usamos de forma indireta em outras novas\n",
        "df.drop(columns=[\"QTD_CONTAS_PAGAS_12\", \"QTD_CONTAS_FAT_12\", \"QTD_FRAUDE_12M\"], inplace=True)"
      ]
    },
    {
      "cell_type": "code",
      "execution_count": null,
      "metadata": {
        "id": "E86z_XHn8jIz"
      },
      "outputs": [],
      "source": [
        "df.dropna(subset = [\"TIPO_MORADOR\"], inplace=True)"
      ]
    },
    {
      "cell_type": "code",
      "execution_count": null,
      "metadata": {
        "id": "ddFMWiVaKi72"
      },
      "outputs": [],
      "source": [
        "df.dropna(subset = [\"TIPO_CLIENTE\"], inplace=True)"
      ]
    },
    {
      "cell_type": "markdown",
      "source": [
        "# Conclusões\n",
        "\n",
        "Alguns dos feitos aqui foram decididos em reuniões com o grupo todo, nas quais eu fui encarregado de propor e responder as perguntas que iriam provar ou desmotivar as ideias de todos, por exemplo, ver se colocar 0 nos valores faltantes de ATRASO_ANTIGO fazia sentido ou não.\n",
        "\n",
        "\n",
        "Após tais ajustes ajudei outro colega na implementação do LOGIT e PROBIT, já com novas subamostras tratadas.\n",
        "\n",
        "Todas variáveis restantes da base tratada estavam dentro dos parâmetros desejáveis, nós traçamos a meta de termos todas variáveis com uma relevância maior do que 90% nos métodos e isso ocorreu sem nem precisar de novos ajustes. Mostrando que o tratamento inicial foi bom.\n",
        "\n",
        "\n"
      ],
      "metadata": {
        "id": "RhyKvXQIf0jy"
      }
    },
    {
      "cell_type": "markdown",
      "source": [
        "# Resultados\n",
        "Conseguimos ótimos resultados com nosso projeto, nosso grupo teve, em todas subamostras e na base de teste, uma acertividade superior a 95%. Foi passado pela empresa que o eles possuiam apenas 70% de acertividade, ou seja, tivemos um ótimo resultado."
      ],
      "metadata": {
        "id": "Tiyc2z8ziQ2X"
      }
    }
  ],
  "metadata": {
    "colab": {
      "provenance": [],
      "toc_visible": true,
      "include_colab_link": true
    },
    "kernelspec": {
      "display_name": "Python 3",
      "name": "python3"
    },
    "language_info": {
      "name": "python"
    }
  },
  "nbformat": 4,
  "nbformat_minor": 0
}