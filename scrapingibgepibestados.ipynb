{
  "cells": [
    {
      "cell_type": "markdown",
      "metadata": {
        "id": "view-in-github",
        "colab_type": "text"
      },
      "source": [
        "<a href=\"https://colab.research.google.com/github/Thiagogiovanni/projetos_de_estudo/blob/main/scrapingibgepibestados.ipynb\" target=\"_parent\"><img src=\"https://colab.research.google.com/assets/colab-badge.svg\" alt=\"Open In Colab\"/></a>"
      ]
    },
    {
      "cell_type": "markdown",
      "source": [
        "# Web scraping simples \n",
        "\n",
        "Esse é um pequeno web scraping que fiz para um projeto pessoal, os dados foram retirados do seguinte [site](https://www.ibge.gov.br/explica/pib.php#:~:text=O%20PIB%20do%20Brasil%20em,%24%202%20543%2C6%20bilh%C3%B5es.)\n",
        "\n"
      ],
      "metadata": {
        "id": "PBtml1p5Se8h"
      },
      "id": "PBtml1p5Se8h"
    },
    {
      "cell_type": "code",
      "execution_count": null,
      "id": "e6c3e44a",
      "metadata": {
        "id": "e6c3e44a"
      },
      "outputs": [],
      "source": [
        "from selenium import webdriver\n",
        "from selenium.webdriver.chrome.options import Options\n",
        "from selenium.webdriver.chrome.service import Service\n",
        "from webdriver_manager.chrome import ChromeDriverManager\n",
        "\n",
        "options = Options()\n",
        "# para esconder navegador - options.headless = True \n",
        "options.add_argument(\"start-maximized\")\n",
        "driver = webdriver.Chrome(service=Service(ChromeDriverManager().install()), options=options)"
      ]
    },
    {
      "cell_type": "code",
      "execution_count": null,
      "id": "e6c43455",
      "metadata": {
        "id": "e6c43455"
      },
      "outputs": [],
      "source": [
        "url = 'https://www.ibge.gov.br/explica/pib.php#:~:text=O%20PIB%20do%20Brasil%20em,%24%202%20543%2C6%20bilh%C3%B5es.'\n",
        "driver.get(url)"
      ]
    },
    {
      "cell_type": "code",
      "execution_count": null,
      "id": "8e99acff",
      "metadata": {
        "id": "8e99acff",
        "outputId": "1df9c9b1-5472-4446-ad22-33ec453da746"
      },
      "outputs": [
        {
          "name": "stdout",
          "output_type": "stream",
          "text": [
            "[('Acre', '16.476'), ('Alagoas', '63.202'), ('Amapá', '18.469'), ('Amazonas', '116.019'), ('Bahia', '305.321'), ('Ceará', '166.915'), ('Distrito Federal', '265.847'), ('Espírito Santo', '138.446'), ('Goiás', '224.126'), ('Maranhão', '106.916'), ('Mato Grosso', '178.650'), ('Mato Grosso do Sul', '122.628'), ('Minas Gerais', '682.786'), ('Paraná', '487.931'), ('Paraíba', '70.292'), ('Pará', '215.936'), ('Pernambuco', '193.307'), ('Piauí', '56.391'), ('Rio de Janeiro', '753.824'), ('Rio Grande do Norte', '71.577'), ('Rio Grande do Sul', '470.942'), ('Rondônia', '51.599'), ('Roraima', '16.024'), ('Santa Catarina', '349.275'), ('Sergipe', '45.410'), ('São Paulo', '2.377.639'), ('Tocantins', '43.650')]\n"
          ]
        }
      ],
      "source": [
        "# Salvando a quantidade de linhas e colunas a serem exploradas\n",
        "\n",
        "rows = len(driver.find_elements('xpath', \"/html/body/section/article/table/tbody/tr\"))\n",
        "columns = len(driver.find_elements('xpath', '/html/body/section/article/table/tbody/tr/td'))\n",
        "\n",
        "# Colocando como o xpath dos valores que iremos retirar se comportam\n",
        "\n",
        "base = \"/html/body/section/article/table/tbody/tr[\"\n",
        "final_linhas = \"]/th\"\n",
        "final_colunas = \"]/td\"\n",
        "\n",
        "linhas = []\n",
        "colunas = []\n",
        "\n",
        "# Primeiro vamos rodar em todos os xpath de interesse e depois salvar o conteudo deles nas listas linhas e colunas\n",
        "for t in range(1, (rows + 1)):\n",
        "    \n",
        "    # Escrevendo o xpath das linhas e colunas\n",
        "    final_xpath_rows = base + str(t) + final_linhas\n",
        "    final_xpath_columns = base + str(t) + final_colunas\n",
        "    \n",
        "    # Procurando por esses xpath\n",
        "    conteudo_linhas = driver.find_elements('xpath', final_xpath_rows)\n",
        "    conteudo_colunas = driver.find_elements('xpath', final_xpath_columns)\n",
        "    \n",
        "    # Salvando o texto contido nas listas\n",
        "    linhas.append(conteudo_linhas[0].text)\n",
        "    colunas.append(conteudo_colunas[0].text)\n",
        "\n",
        "# Colocando dessa forma para salvar num dataframe\n",
        "lista_final= list(zip(linhas,colunas))\n",
        "print(lista_final)"
      ]
    },
    {
      "cell_type": "code",
      "execution_count": null,
      "id": "89d2f8bf",
      "metadata": {
        "id": "89d2f8bf"
      },
      "outputs": [],
      "source": [
        "import pandas as pd\n",
        "\n",
        "df = pd.DataFrame(lista_final, columns = ['UF', 'PIB EM 2020 (1.000.00 R$)'])"
      ]
    },
    {
      "cell_type": "code",
      "execution_count": null,
      "id": "edbfd947",
      "metadata": {
        "id": "edbfd947",
        "outputId": "9b66a673-07d2-4871-9913-204f70d3b448"
      },
      "outputs": [
        {
          "data": {
            "text/html": [
              "<div>\n",
              "<style scoped>\n",
              "    .dataframe tbody tr th:only-of-type {\n",
              "        vertical-align: middle;\n",
              "    }\n",
              "\n",
              "    .dataframe tbody tr th {\n",
              "        vertical-align: top;\n",
              "    }\n",
              "\n",
              "    .dataframe thead th {\n",
              "        text-align: right;\n",
              "    }\n",
              "</style>\n",
              "<table border=\"1\" class=\"dataframe\">\n",
              "  <thead>\n",
              "    <tr style=\"text-align: right;\">\n",
              "      <th></th>\n",
              "      <th>UF</th>\n",
              "      <th>PIB EM 2020 (1.000.00 R$)</th>\n",
              "    </tr>\n",
              "  </thead>\n",
              "  <tbody>\n",
              "    <tr>\n",
              "      <th>0</th>\n",
              "      <td>Acre</td>\n",
              "      <td>16.476</td>\n",
              "    </tr>\n",
              "    <tr>\n",
              "      <th>1</th>\n",
              "      <td>Alagoas</td>\n",
              "      <td>63.202</td>\n",
              "    </tr>\n",
              "    <tr>\n",
              "      <th>2</th>\n",
              "      <td>Amapá</td>\n",
              "      <td>18.469</td>\n",
              "    </tr>\n",
              "    <tr>\n",
              "      <th>3</th>\n",
              "      <td>Amazonas</td>\n",
              "      <td>116.019</td>\n",
              "    </tr>\n",
              "    <tr>\n",
              "      <th>4</th>\n",
              "      <td>Bahia</td>\n",
              "      <td>305.321</td>\n",
              "    </tr>\n",
              "    <tr>\n",
              "      <th>5</th>\n",
              "      <td>Ceará</td>\n",
              "      <td>166.915</td>\n",
              "    </tr>\n",
              "    <tr>\n",
              "      <th>6</th>\n",
              "      <td>Distrito Federal</td>\n",
              "      <td>265.847</td>\n",
              "    </tr>\n",
              "    <tr>\n",
              "      <th>7</th>\n",
              "      <td>Espírito Santo</td>\n",
              "      <td>138.446</td>\n",
              "    </tr>\n",
              "    <tr>\n",
              "      <th>8</th>\n",
              "      <td>Goiás</td>\n",
              "      <td>224.126</td>\n",
              "    </tr>\n",
              "    <tr>\n",
              "      <th>9</th>\n",
              "      <td>Maranhão</td>\n",
              "      <td>106.916</td>\n",
              "    </tr>\n",
              "    <tr>\n",
              "      <th>10</th>\n",
              "      <td>Mato Grosso</td>\n",
              "      <td>178.650</td>\n",
              "    </tr>\n",
              "    <tr>\n",
              "      <th>11</th>\n",
              "      <td>Mato Grosso do Sul</td>\n",
              "      <td>122.628</td>\n",
              "    </tr>\n",
              "    <tr>\n",
              "      <th>12</th>\n",
              "      <td>Minas Gerais</td>\n",
              "      <td>682.786</td>\n",
              "    </tr>\n",
              "    <tr>\n",
              "      <th>13</th>\n",
              "      <td>Paraná</td>\n",
              "      <td>487.931</td>\n",
              "    </tr>\n",
              "    <tr>\n",
              "      <th>14</th>\n",
              "      <td>Paraíba</td>\n",
              "      <td>70.292</td>\n",
              "    </tr>\n",
              "    <tr>\n",
              "      <th>15</th>\n",
              "      <td>Pará</td>\n",
              "      <td>215.936</td>\n",
              "    </tr>\n",
              "    <tr>\n",
              "      <th>16</th>\n",
              "      <td>Pernambuco</td>\n",
              "      <td>193.307</td>\n",
              "    </tr>\n",
              "    <tr>\n",
              "      <th>17</th>\n",
              "      <td>Piauí</td>\n",
              "      <td>56.391</td>\n",
              "    </tr>\n",
              "    <tr>\n",
              "      <th>18</th>\n",
              "      <td>Rio de Janeiro</td>\n",
              "      <td>753.824</td>\n",
              "    </tr>\n",
              "    <tr>\n",
              "      <th>19</th>\n",
              "      <td>Rio Grande do Norte</td>\n",
              "      <td>71.577</td>\n",
              "    </tr>\n",
              "    <tr>\n",
              "      <th>20</th>\n",
              "      <td>Rio Grande do Sul</td>\n",
              "      <td>470.942</td>\n",
              "    </tr>\n",
              "    <tr>\n",
              "      <th>21</th>\n",
              "      <td>Rondônia</td>\n",
              "      <td>51.599</td>\n",
              "    </tr>\n",
              "    <tr>\n",
              "      <th>22</th>\n",
              "      <td>Roraima</td>\n",
              "      <td>16.024</td>\n",
              "    </tr>\n",
              "    <tr>\n",
              "      <th>23</th>\n",
              "      <td>Santa Catarina</td>\n",
              "      <td>349.275</td>\n",
              "    </tr>\n",
              "    <tr>\n",
              "      <th>24</th>\n",
              "      <td>Sergipe</td>\n",
              "      <td>45.410</td>\n",
              "    </tr>\n",
              "    <tr>\n",
              "      <th>25</th>\n",
              "      <td>São Paulo</td>\n",
              "      <td>2.377.639</td>\n",
              "    </tr>\n",
              "    <tr>\n",
              "      <th>26</th>\n",
              "      <td>Tocantins</td>\n",
              "      <td>43.650</td>\n",
              "    </tr>\n",
              "  </tbody>\n",
              "</table>\n",
              "</div>"
            ],
            "text/plain": [
              "                     UF PIB EM 2020 (1.000.00 R$)\n",
              "0                  Acre                    16.476\n",
              "1               Alagoas                    63.202\n",
              "2                 Amapá                    18.469\n",
              "3              Amazonas                   116.019\n",
              "4                 Bahia                   305.321\n",
              "5                 Ceará                   166.915\n",
              "6      Distrito Federal                   265.847\n",
              "7        Espírito Santo                   138.446\n",
              "8                 Goiás                   224.126\n",
              "9              Maranhão                   106.916\n",
              "10          Mato Grosso                   178.650\n",
              "11   Mato Grosso do Sul                   122.628\n",
              "12         Minas Gerais                   682.786\n",
              "13               Paraná                   487.931\n",
              "14              Paraíba                    70.292\n",
              "15                 Pará                   215.936\n",
              "16           Pernambuco                   193.307\n",
              "17                Piauí                    56.391\n",
              "18       Rio de Janeiro                   753.824\n",
              "19  Rio Grande do Norte                    71.577\n",
              "20    Rio Grande do Sul                   470.942\n",
              "21             Rondônia                    51.599\n",
              "22              Roraima                    16.024\n",
              "23       Santa Catarina                   349.275\n",
              "24              Sergipe                    45.410\n",
              "25            São Paulo                 2.377.639\n",
              "26            Tocantins                    43.650"
            ]
          },
          "execution_count": 53,
          "metadata": {},
          "output_type": "execute_result"
        }
      ],
      "source": [
        "df"
      ]
    }
  ],
  "metadata": {
    "kernelspec": {
      "display_name": "Python 3 (ipykernel)",
      "language": "python",
      "name": "python3"
    },
    "language_info": {
      "codemirror_mode": {
        "name": "ipython",
        "version": 3
      },
      "file_extension": ".py",
      "mimetype": "text/x-python",
      "name": "python",
      "nbconvert_exporter": "python",
      "pygments_lexer": "ipython3",
      "version": "3.11.1"
    },
    "colab": {
      "provenance": [],
      "include_colab_link": true
    }
  },
  "nbformat": 4,
  "nbformat_minor": 5
}